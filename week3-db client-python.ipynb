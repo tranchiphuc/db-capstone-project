{
 "cells": [
  {
   "cell_type": "code",
   "execution_count": 1,
   "id": "3e3f0bea-d482-4436-b4a0-7366be9ce30a",
   "metadata": {},
   "outputs": [
    {
     "name": "stdout",
     "output_type": "stream",
     "text": [
      "Requirement already satisfied: mysql-connector-python in c:\\users\\user\\appdata\\local\\programs\\python\\python312\\lib\\site-packages (8.1.0)\n",
      "Requirement already satisfied: protobuf<=4.21.12,>=4.21.1 in c:\\users\\user\\appdata\\local\\programs\\python\\python312\\lib\\site-packages (from mysql-connector-python) (4.21.12)\n"
     ]
    }
   ],
   "source": [
    "!pip install mysql-connector-python"
   ]
  },
  {
   "cell_type": "code",
   "execution_count": 2,
   "id": "10ed3a52-83eb-46db-bfad-ac3d58c577fb",
   "metadata": {},
   "outputs": [],
   "source": [
    "import mysql.connector as connector"
   ]
  },
  {
   "cell_type": "code",
   "execution_count": 24,
   "id": "d5b78bd9-ad02-4f7f-a60d-d3903a25368f",
   "metadata": {},
   "outputs": [],
   "source": [
    "connection = connector.connect(user = \"phuctc\", password = \"phuctc\", db=\"littlelemondb\")"
   ]
  },
  {
   "cell_type": "code",
   "execution_count": 25,
   "id": "5a6dfd04-9661-4976-bb9e-c928bb64ff43",
   "metadata": {},
   "outputs": [
    {
     "name": "stdout",
     "output_type": "stream",
     "text": [
      "[('bookings',), ('customers',), ('menuitems',), ('menus',), ('orderdeliverystatus',), ('orders',), ('ordersview',), ('staffs',)]\n"
     ]
    }
   ],
   "source": [
    "cursor = connection.cursor()\n",
    "show_query = \"SHOW TABLES\" \n",
    "cursor.execute(show_query)\n",
    "results = cursor.fetchall()\n",
    "print(results)"
   ]
  },
  {
   "cell_type": "code",
   "execution_count": 27,
   "id": "9ae7a7de-67a1-408b-a184-15886b3b0276",
   "metadata": {},
   "outputs": [
    {
     "name": "stdout",
     "output_type": "stream",
     "text": [
      "('Name', 'Contact', 'TotalCost')\n",
      "('Lance Cheatle', '12345670051', Decimal('60.00'))\n",
      "('Sherye Christmas', '12345670052', Decimal('60.75'))\n",
      "('Lorne Boldry', '12345670053', Decimal('61.50'))\n",
      "('Yardley Eliet', '12345670054', Decimal('62.25'))\n",
      "('Doreen Sothcott', '12345670055', Decimal('63.00'))\n",
      "('Petronille Scrimgeour', '12345670056', Decimal('63.75'))\n",
      "('Faith Grushin', '12345670057', Decimal('64.50'))\n",
      "('Hyacintha Hanne', '12345670058', Decimal('65.25'))\n",
      "('Donni Tatem', '12345670059', Decimal('66.00'))\n",
      "('Mary Jellett', '12345670060', Decimal('66.75'))\n",
      "('Melodee Gartshore', '12345670061', Decimal('67.50'))\n",
      "('Sheela Stein', '12345670062', Decimal('68.25'))\n",
      "('Sterne Salterne', '12345670063', Decimal('69.00'))\n",
      "('Mady McMennum', '12345670064', Decimal('69.75'))\n",
      "('Merwin Pikhno', '12345670065', Decimal('70.50'))\n",
      "('Aime Ferry', '12345670066', Decimal('71.25'))\n",
      "('Merlina Lermit', '12345670067', Decimal('72.00'))\n",
      "('Schuyler Walewski', '12345670068', Decimal('72.75'))\n",
      "('Ariadne Copeland', '12345670069', Decimal('73.50'))\n",
      "('Tamma Clink', '12345670070', Decimal('74.25'))\n",
      "(\"Susette O'Neil\", '12345670071', Decimal('75.00'))\n",
      "('Aldrich Phythien', '12345670072', Decimal('75.75'))\n",
      "('Dusty Yedall', '12345670073', Decimal('76.50'))\n",
      "('Roanna Safont', '12345670074', Decimal('77.25'))\n",
      "('Richie Brydson', '12345670075', Decimal('78.00'))\n",
      "('Alfreda Chasmer', '12345670076', Decimal('80.00'))\n",
      "('Renato Paulin', '12345670077', Decimal('81.00'))\n",
      "('Janeva Silman', '12345670078', Decimal('82.00'))\n",
      "('Wenona MacGinlay', '12345670079', Decimal('83.00'))\n",
      "('Karissa Sancraft', '12345670080', Decimal('84.00'))\n",
      "('Vale Norwood', '12345670081', Decimal('85.00'))\n",
      "('Lance Cheatle', '12345670082', Decimal('86.00'))\n",
      "('Sherye Christmas', '12345670083', Decimal('87.00'))\n",
      "('Lorne Boldry', '12345670084', Decimal('88.00'))\n",
      "('Yardley Eliet', '12345670085', Decimal('89.00'))\n",
      "('Doreen Sothcott', '12345670086', Decimal('90.00'))\n",
      "('Petronille Scrimgeour', '12345670087', Decimal('91.00'))\n",
      "('Faith Grushin', '12345670088', Decimal('92.00'))\n",
      "('Hyacintha Hanne', '12345670089', Decimal('93.00'))\n",
      "('Donni Tatem', '12345670090', Decimal('94.00'))\n",
      "('Mary Jellett', '12345670091', Decimal('95.00'))\n",
      "('Melodee Gartshore', '12345670092', Decimal('96.00'))\n",
      "('Sheela Stein', '12345670093', Decimal('97.00'))\n",
      "('Sterne Salterne', '12345670094', Decimal('98.00'))\n",
      "('Mady McMennum', '12345670095', Decimal('99.00'))\n",
      "('Merwin Pikhno', '12345670096', Decimal('100.00'))\n",
      "('Aime Ferry', '12345670097', Decimal('101.00'))\n",
      "('Merlina Lermit', '12345670098', Decimal('102.00'))\n",
      "('Schuyler Walewski', '12345670099', Decimal('103.00'))\n",
      "('Ariadne Copeland', '12345670100', Decimal('104.00'))\n"
     ]
    }
   ],
   "source": [
    "show_query = \"\"\"\n",
    "SELECT customers.Name, customers.Contact, orders.TotalCost \n",
    "FROM customers \n",
    "INNER JOIN bookings ON customers.CustomerID = bookings.CustomerID\n",
    "INNER JOIN orders  ON bookings.BookingID = orders.BookingID\n",
    "WHERE orders.TotalCost >= 60;\n",
    "\"\"\"\n",
    "cursor.execute(show_query)\n",
    "results = cursor.fetchall()   \n",
    "\n",
    "# Retrieve column names\n",
    "cols = cursor.column_names\n",
    "\n",
    "# Print column names and records from results using for loop\n",
    "#print(\"\"\"Data in the \"Menu\" table:\"\"\")\n",
    "print(cols)\n",
    "for result in results:\n",
    "    print(result)"
   ]
  },
  {
   "cell_type": "code",
   "execution_count": 16,
   "id": "86fefb22-c11b-4008-b034-6005b14fffed",
   "metadata": {},
   "outputs": [
    {
     "data": {
      "text/plain": [
       "True"
      ]
     },
     "execution_count": 16,
     "metadata": {},
     "output_type": "execute_result"
    }
   ],
   "source": []
  },
  {
   "cell_type": "code",
   "execution_count": 28,
   "id": "ce7da016-d6a7-4d74-96b8-b802b5c6fdfc",
   "metadata": {},
   "outputs": [],
   "source": [
    "cursor.close()\n",
    "connection.close()"
   ]
  },
  {
   "cell_type": "code",
   "execution_count": null,
   "id": "58ca554e-4228-4ec2-a3ae-46b968cea049",
   "metadata": {},
   "outputs": [],
   "source": []
  }
 ],
 "metadata": {
  "kernelspec": {
   "display_name": "Python 3 (ipykernel)",
   "language": "python",
   "name": "python3"
  },
  "language_info": {
   "codemirror_mode": {
    "name": "ipython",
    "version": 3
   },
   "file_extension": ".py",
   "mimetype": "text/x-python",
   "name": "python",
   "nbconvert_exporter": "python",
   "pygments_lexer": "ipython3",
   "version": "3.12.0"
  }
 },
 "nbformat": 4,
 "nbformat_minor": 5
}
