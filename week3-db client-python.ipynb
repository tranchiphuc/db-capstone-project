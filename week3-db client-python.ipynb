{
 "cells": [
  {
   "cell_type": "code",
   "execution_count": 1,
   "id": "3e3f0bea-d482-4436-b4a0-7366be9ce30a",
   "metadata": {},
   "outputs": [
    {
     "name": "stdout",
     "output_type": "stream",
     "text": [
      "Requirement already satisfied: mysql-connector-python in c:\\users\\user\\appdata\\local\\programs\\python\\python312\\lib\\site-packages (8.1.0)\n",
      "Requirement already satisfied: protobuf<=4.21.12,>=4.21.1 in c:\\users\\user\\appdata\\local\\programs\\python\\python312\\lib\\site-packages (from mysql-connector-python) (4.21.12)\n"
     ]
    }
   ],
   "source": [
    "!pip install mysql-connector-python"
   ]
  },
  {
   "cell_type": "code",
   "execution_count": 8,
   "id": "10ed3a52-83eb-46db-bfad-ac3d58c577fb",
   "metadata": {},
   "outputs": [],
   "source": [
    "import mysql.connector as connector"
   ]
  },
  {
   "cell_type": "code",
   "execution_count": 23,
   "id": "d5b78bd9-ad02-4f7f-a60d-d3903a25368f",
   "metadata": {},
   "outputs": [],
   "source": [
    "connection = connector.connect(user = \"root\", password = \"root\", db=\"littlelemondb\")"
   ]
  },
  {
   "cell_type": "code",
   "execution_count": 16,
   "id": "5a6dfd04-9661-4976-bb9e-c928bb64ff43",
   "metadata": {},
   "outputs": [
    {
     "name": "stdout",
     "output_type": "stream",
     "text": [
      "[('bookings',), ('customers',), ('menuitems',), ('menus',), ('orderdeliverystatus',), ('orders',), ('ordersview',), ('staff',)]\n"
     ]
    }
   ],
   "source": [
    "cursor = connection.cursor()\n",
    "show_query = \"SHOW TABLES\" \n",
    "cursor.execute(show_query)\n",
    "results = cursor.fetchall()\n",
    "print(results)"
   ]
  },
  {
   "cell_type": "code",
   "execution_count": 24,
   "id": "9ae7a7de-67a1-408b-a184-15886b3b0276",
   "metadata": {},
   "outputs": [
    {
     "name": "stdout",
     "output_type": "stream",
     "text": [
      "('Name', 'Contact', 'TotalCost')\n",
      "('Merwin Pikhno', '12345670003', Decimal('72.00'))\n",
      "('Merwin Pikhno', '12345670003', Decimal('75.00'))\n",
      "('Mady McMennum', '12345670002', Decimal('104.00'))\n",
      "('Mady McMennum', '12345670002', Decimal('108.00'))\n",
      "('Mady McMennum', '12345670002', Decimal('140.00'))\n",
      "('Sterne Salterne', '12345670001', Decimal('145.00'))\n"
     ]
    }
   ],
   "source": [
    "select_query = \"\"\"\n",
    "SELECT customers.Name, customers.Contact, orders.TotalCost \n",
    "FROM customers \n",
    "INNER JOIN bookings ON customers.CustomerID = bookings.CustomerID\n",
    "INNER JOIN orders  ON bookings.BookingID = orders.BookingID\n",
    "WHERE orders.TotalCost >= 60;\n",
    "\"\"\"\n",
    "cursor.execute(select_query)\n",
    "results = cursor.fetchall()   \n",
    "\n",
    "# Retrieve column names\n",
    "cols = cursor.column_names\n",
    "\n",
    "# Print column names and records from results using for loop\n",
    "#print(\"\"\"Data in the \"Menu\" table:\"\"\")\n",
    "print(cols)\n",
    "for result in results:\n",
    "    print(result)"
   ]
  },
  {
   "cell_type": "code",
   "execution_count": 25,
   "id": "4fca6fe6",
   "metadata": {},
   "outputs": [
    {
     "name": "stdout",
     "output_type": "stream",
     "text": [
      "(1, 1, 5, datetime.date(2022, 10, 10))\n",
      "(2, 3, 3, datetime.date(2022, 11, 12))\n",
      "(3, 2, 2, datetime.date(2022, 10, 11))\n",
      "(4, 1, 2, datetime.date(2022, 10, 13))\n"
     ]
    }
   ],
   "source": [
    "show_query = \"SELECT * FROM Bookings\" \n",
    "cursor.execute(show_query)\n",
    "results = cursor.fetchall()\n",
    "for result in results:\n",
    "    print(result)"
   ]
  },
  {
   "cell_type": "code",
   "execution_count": 28,
   "id": "86fefb22-c11b-4008-b034-6005b14fffed",
   "metadata": {},
   "outputs": [
    {
     "ename": "ProgrammingError",
     "evalue": "1318 (42000): Incorrect number of arguments for PROCEDURE littlelemondb.ManageBooking; expected 4, got 0",
     "output_type": "error",
     "traceback": [
      "\u001b[1;31m---------------------------------------------------------------------------\u001b[0m",
      "\u001b[1;31mProgrammingError\u001b[0m                          Traceback (most recent call last)",
      "\u001b[1;32md:\\01-coursera\\2023-meta-database-engineer\\course-8-db-capstone\\week3-db client-python.ipynb Cell 7\u001b[0m line \u001b[0;36m6\n\u001b[0;32m      <a href='vscode-notebook-cell:/d%3A/01-coursera/2023-meta-database-engineer/course-8-db-capstone/week3-db%20client-python.ipynb#W5sZmlsZQ%3D%3D?line=2'>3</a>\u001b[0m call_proc \u001b[39m=\u001b[39m \u001b[39m\"\u001b[39m\u001b[39mManageBooking\u001b[39m\u001b[39m\"\u001b[39m\n\u001b[0;32m      <a href='vscode-notebook-cell:/d%3A/01-coursera/2023-meta-database-engineer/course-8-db-capstone/week3-db%20client-python.ipynb#W5sZmlsZQ%3D%3D?line=3'>4</a>\u001b[0m params \u001b[39m=\u001b[39m [\u001b[39m9\u001b[39m, \u001b[39m3\u001b[39m, \u001b[39m4\u001b[39m, \u001b[39m\"\u001b[39m\u001b[39m2022-12-30\u001b[39m\u001b[39m\"\u001b[39m]\n\u001b[1;32m----> <a href='vscode-notebook-cell:/d%3A/01-coursera/2023-meta-database-engineer/course-8-db-capstone/week3-db%20client-python.ipynb#W5sZmlsZQ%3D%3D?line=5'>6</a>\u001b[0m cursor\u001b[39m.\u001b[39;49mcallproc(call_proc)\n\u001b[0;32m      <a href='vscode-notebook-cell:/d%3A/01-coursera/2023-meta-database-engineer/course-8-db-capstone/week3-db%20client-python.ipynb#W5sZmlsZQ%3D%3D?line=7'>8</a>\u001b[0m \u001b[39m# Retrieve records in \"dataset\"\u001b[39;00m\n\u001b[0;32m      <a href='vscode-notebook-cell:/d%3A/01-coursera/2023-meta-database-engineer/course-8-db-capstone/week3-db%20client-python.ipynb#W5sZmlsZQ%3D%3D?line=8'>9</a>\u001b[0m results \u001b[39m=\u001b[39m \u001b[39mnext\u001b[39m( cursor\u001b[39m.\u001b[39mstored_results() )\n",
      "File \u001b[1;32mc:\\Users\\User\\AppData\\Local\\Programs\\Python\\Python312\\Lib\\site-packages\\mysql\\connector\\cursor.py:826\u001b[0m, in \u001b[0;36mMySQLCursor.callproc\u001b[1;34m(self, procname, args)\u001b[0m\n\u001b[0;32m    823\u001b[0m \u001b[39m# We disable consuming results temporary to make sure we\u001b[39;00m\n\u001b[0;32m    824\u001b[0m \u001b[39m# getting all results\u001b[39;00m\n\u001b[0;32m    825\u001b[0m can_consume_results \u001b[39m=\u001b[39m \u001b[39mself\u001b[39m\u001b[39m.\u001b[39m_connection\u001b[39m.\u001b[39mcan_consume_results\n\u001b[1;32m--> 826\u001b[0m \u001b[39mfor\u001b[39;49;00m result \u001b[39min\u001b[39;49;00m \u001b[39mself\u001b[39;49m\u001b[39m.\u001b[39;49m_connection\u001b[39m.\u001b[39;49mcmd_query_iter(call):\n\u001b[0;32m    827\u001b[0m     \u001b[39mself\u001b[39;49m\u001b[39m.\u001b[39;49m_connection\u001b[39m.\u001b[39;49mcan_consume_results \u001b[39m=\u001b[39;49m \u001b[39mFalse\u001b[39;49;00m\n\u001b[0;32m    828\u001b[0m     \u001b[39mif\u001b[39;49;00m \u001b[39misinstance\u001b[39;49m(\u001b[39mself\u001b[39;49m, (MySQLCursorDict, MySQLCursorBufferedDict)):\n",
      "File \u001b[1;32mc:\\Users\\User\\AppData\\Local\\Programs\\Python\\Python312\\Lib\\site-packages\\mysql\\connector\\connection.py:1120\u001b[0m, in \u001b[0;36mMySQLConnection.cmd_query_iter\u001b[1;34m(self, statements)\u001b[0m\n\u001b[0;32m   1118\u001b[0m query \u001b[39m=\u001b[39m \u001b[39mbytes\u001b[39m(packet)\n\u001b[0;32m   1119\u001b[0m \u001b[39m# Handle the first query result\u001b[39;00m\n\u001b[1;32m-> 1120\u001b[0m \u001b[39myield\u001b[39;00m \u001b[39mself\u001b[39;49m\u001b[39m.\u001b[39;49m_handle_result(\u001b[39mself\u001b[39;49m\u001b[39m.\u001b[39;49m_send_cmd(ServerCmd\u001b[39m.\u001b[39;49mQUERY, query))\n\u001b[0;32m   1122\u001b[0m \u001b[39m# Handle next results, if any\u001b[39;00m\n\u001b[0;32m   1123\u001b[0m \u001b[39mwhile\u001b[39;00m \u001b[39mself\u001b[39m\u001b[39m.\u001b[39m_have_next_result:\n",
      "File \u001b[1;32mc:\\Users\\User\\AppData\\Local\\Programs\\Python\\Python312\\Lib\\site-packages\\mysql\\connector\\connection.py:846\u001b[0m, in \u001b[0;36mMySQLConnection._handle_result\u001b[1;34m(self, packet)\u001b[0m\n\u001b[0;32m    844\u001b[0m     \u001b[39mreturn\u001b[39;00m \u001b[39mself\u001b[39m\u001b[39m.\u001b[39m_handle_eof(packet)\n\u001b[0;32m    845\u001b[0m \u001b[39mif\u001b[39;00m packet[\u001b[39m4\u001b[39m] \u001b[39m==\u001b[39m \u001b[39m255\u001b[39m:\n\u001b[1;32m--> 846\u001b[0m     \u001b[39mraise\u001b[39;00m get_exception(packet)\n\u001b[0;32m    848\u001b[0m \u001b[39m# We have a text result set\u001b[39;00m\n\u001b[0;32m    849\u001b[0m column_count \u001b[39m=\u001b[39m \u001b[39mself\u001b[39m\u001b[39m.\u001b[39m_protocol\u001b[39m.\u001b[39mparse_column_count(packet)\n",
      "\u001b[1;31mProgrammingError\u001b[0m: 1318 (42000): Incorrect number of arguments for PROCEDURE littlelemondb.ManageBooking; expected 4, got 0"
     ]
    }
   ],
   "source": [
    "# Call the stored procedure with its name\n",
    "#call_proc = \"GetMaxQuantity\"\n",
    "call_proc = \"ManageBooking\"\n",
    "params = [9, 3, 4, \"2022-12-30\"]\n",
    "\n",
    "cursor.callproc(call_proc, params)\n",
    "\n",
    "# Retrieve records in \"dataset\"\n",
    "results = next( cursor.stored_results() )\n",
    "dataset = results.fetchall()\n",
    "\n",
    "# Retrieve column names using list comprehension in a 'for' loop \n",
    "for column_id in cursor.stored_results():\n",
    "    columns = [ column[0] for column in column_id.description ]\n",
    "\n",
    "# Print column names\n",
    "print(columns)\n",
    "\n",
    "# Print data \n",
    "for data in dataset:\n",
    "    print(data)"
   ]
  },
  {
   "cell_type": "code",
   "execution_count": 28,
   "id": "ce7da016-d6a7-4d74-96b8-b802b5c6fdfc",
   "metadata": {},
   "outputs": [],
   "source": [
    "cursor.close()\n",
    "connection.close()"
   ]
  },
  {
   "cell_type": "code",
   "execution_count": null,
   "id": "58ca554e-4228-4ec2-a3ae-46b968cea049",
   "metadata": {},
   "outputs": [],
   "source": []
  }
 ],
 "metadata": {
  "kernelspec": {
   "display_name": "Python 3 (ipykernel)",
   "language": "python",
   "name": "python3"
  },
  "language_info": {
   "codemirror_mode": {
    "name": "ipython",
    "version": 3
   },
   "file_extension": ".py",
   "mimetype": "text/x-python",
   "name": "python",
   "nbconvert_exporter": "python",
   "pygments_lexer": "ipython3",
   "version": "3.12.0"
  }
 },
 "nbformat": 4,
 "nbformat_minor": 5
}
